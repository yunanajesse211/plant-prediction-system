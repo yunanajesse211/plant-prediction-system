{
 "cells": [
  {
   "cell_type": "markdown",
   "id": "8fe44476",
   "metadata": {},
   "source": [
    "##importing Neccesary libraries"
   ]
  },
  {
   "cell_type": "code",
   "execution_count": 64,
   "id": "0d6b2d36",
   "metadata": {},
   "outputs": [],
   "source": [
    "import pandas as pd\n",
    "import numpy as np\n",
    "import matplotlib.pyplot as plt\n",
    "import seaborn as sns\n",
    "# Ignore Warnings\n",
    "import warnings\n",
    "warnings.filterwarnings(\"ignore\")\n",
    "from sklearn.preprocessing import StandardScaler\n",
    "from sklearn.linear_model import LinearRegression,Lasso\n",
    "from sklearn.model_selection import train_test_split,GridSearchCV\n",
    "from sklearn.ensemble import  RandomForestRegressor\n",
    "from sklearn.metrics import r2_score,mean_squared_error,mean_absolute_error,mean_absolute_percentage_error\n",
    "from sklearn.tree import DecisionTreeRegressor\n",
    "from sklearn.neural_network import MLPRegressor\n"
   ]
  },
  {
   "cell_type": "markdown",
   "id": "d98d29e1",
   "metadata": {},
   "source": [
    "Loading the dataset"
   ]
  },
  {
   "cell_type": "code",
   "execution_count": 2,
   "id": "8383156b",
   "metadata": {},
   "outputs": [],
   "source": [
    "data=pd.read_csv(r'C:\\Users\\pcd\\Desktop\\datasets\\datasets_to_work_on\\power_plant.csv')"
   ]
  },
  {
   "cell_type": "markdown",
   "id": "fa73c80b",
   "metadata": {},
   "source": [
    "#DATA ANALYSIS"
   ]
  },
  {
   "cell_type": "code",
   "execution_count": 3,
   "id": "2bf809a9",
   "metadata": {},
   "outputs": [
    {
     "data": {
      "text/plain": [
       "1013.88    16\n",
       "1010.99    15\n",
       "1013.23    14\n",
       "1009.61    14\n",
       "1013.02    14\n",
       "           ..\n",
       "1004.57     1\n",
       "1028.22     1\n",
       "1021.49     1\n",
       "1026.30     1\n",
       "1023.67     1\n",
       "Name: AP, Length: 2517, dtype: int64"
      ]
     },
     "execution_count": 3,
     "metadata": {},
     "output_type": "execute_result"
    }
   ],
   "source": [
    "data['AP'].value_counts()"
   ]
  },
  {
   "cell_type": "code",
   "execution_count": 4,
   "id": "274790ab",
   "metadata": {},
   "outputs": [
    {
     "data": {
      "text/plain": [
       "100.09    26\n",
       "82.80     10\n",
       "73.67      8\n",
       "77.00      8\n",
       "75.09      8\n",
       "          ..\n",
       "78.56      1\n",
       "54.90      1\n",
       "49.73      1\n",
       "61.32      1\n",
       "36.48      1\n",
       "Name: RH, Length: 4546, dtype: int64"
      ]
     },
     "execution_count": 4,
     "metadata": {},
     "output_type": "execute_result"
    }
   ],
   "source": [
    "data['RH'].value_counts()"
   ]
  },
  {
   "cell_type": "code",
   "execution_count": 5,
   "id": "92e5478a",
   "metadata": {},
   "outputs": [
    {
     "data": {
      "text/plain": [
       "25.21    14\n",
       "13.78    12\n",
       "24.43    11\n",
       "23.56    10\n",
       "11.02    10\n",
       "         ..\n",
       "9.89      1\n",
       "7.34      1\n",
       "12.92     1\n",
       "27.72     1\n",
       "9.71      1\n",
       "Name: AT, Length: 2773, dtype: int64"
      ]
     },
     "execution_count": 5,
     "metadata": {},
     "output_type": "execute_result"
    }
   ],
   "source": [
    "data['AT'].value_counts()"
   ]
  },
  {
   "cell_type": "code",
   "execution_count": 6,
   "id": "f9a451e4",
   "metadata": {},
   "outputs": [
    {
     "data": {
      "text/plain": [
       "41.17    61\n",
       "70.32    61\n",
       "51.43    47\n",
       "45.01    46\n",
       "68.08    45\n",
       "         ..\n",
       "70.09     1\n",
       "56.24     1\n",
       "73.11     1\n",
       "45.78     1\n",
       "60.06     1\n",
       "Name: V, Length: 634, dtype: int64"
      ]
     },
     "execution_count": 6,
     "metadata": {},
     "output_type": "execute_result"
    }
   ],
   "source": [
    "data['V'].value_counts()"
   ]
  },
  {
   "cell_type": "code",
   "execution_count": 7,
   "id": "b1e0a705",
   "metadata": {},
   "outputs": [
    {
     "data": {
      "text/html": [
       "<div>\n",
       "<style scoped>\n",
       "    .dataframe tbody tr th:only-of-type {\n",
       "        vertical-align: middle;\n",
       "    }\n",
       "\n",
       "    .dataframe tbody tr th {\n",
       "        vertical-align: top;\n",
       "    }\n",
       "\n",
       "    .dataframe thead th {\n",
       "        text-align: right;\n",
       "    }\n",
       "</style>\n",
       "<table border=\"1\" class=\"dataframe\">\n",
       "  <thead>\n",
       "    <tr style=\"text-align: right;\">\n",
       "      <th></th>\n",
       "      <th>AT</th>\n",
       "      <th>V</th>\n",
       "      <th>AP</th>\n",
       "      <th>RH</th>\n",
       "      <th>PE</th>\n",
       "    </tr>\n",
       "  </thead>\n",
       "  <tbody>\n",
       "    <tr>\n",
       "      <th>AT</th>\n",
       "      <td>1.000000</td>\n",
       "      <td>0.844107</td>\n",
       "      <td>-0.507549</td>\n",
       "      <td>-0.542535</td>\n",
       "      <td>-0.948128</td>\n",
       "    </tr>\n",
       "    <tr>\n",
       "      <th>V</th>\n",
       "      <td>0.844107</td>\n",
       "      <td>1.000000</td>\n",
       "      <td>-0.413502</td>\n",
       "      <td>-0.312187</td>\n",
       "      <td>-0.869780</td>\n",
       "    </tr>\n",
       "    <tr>\n",
       "      <th>AP</th>\n",
       "      <td>-0.507549</td>\n",
       "      <td>-0.413502</td>\n",
       "      <td>1.000000</td>\n",
       "      <td>0.099574</td>\n",
       "      <td>0.518429</td>\n",
       "    </tr>\n",
       "    <tr>\n",
       "      <th>RH</th>\n",
       "      <td>-0.542535</td>\n",
       "      <td>-0.312187</td>\n",
       "      <td>0.099574</td>\n",
       "      <td>1.000000</td>\n",
       "      <td>0.389794</td>\n",
       "    </tr>\n",
       "    <tr>\n",
       "      <th>PE</th>\n",
       "      <td>-0.948128</td>\n",
       "      <td>-0.869780</td>\n",
       "      <td>0.518429</td>\n",
       "      <td>0.389794</td>\n",
       "      <td>1.000000</td>\n",
       "    </tr>\n",
       "  </tbody>\n",
       "</table>\n",
       "</div>"
      ],
      "text/plain": [
       "          AT         V        AP        RH        PE\n",
       "AT  1.000000  0.844107 -0.507549 -0.542535 -0.948128\n",
       "V   0.844107  1.000000 -0.413502 -0.312187 -0.869780\n",
       "AP -0.507549 -0.413502  1.000000  0.099574  0.518429\n",
       "RH -0.542535 -0.312187  0.099574  1.000000  0.389794\n",
       "PE -0.948128 -0.869780  0.518429  0.389794  1.000000"
      ]
     },
     "execution_count": 7,
     "metadata": {},
     "output_type": "execute_result"
    }
   ],
   "source": [
    "data.corr()"
   ]
  },
  {
   "cell_type": "code",
   "execution_count": 8,
   "id": "ad46f0b5",
   "metadata": {},
   "outputs": [
    {
     "data": {
      "text/plain": [
       "AT    0\n",
       "V     0\n",
       "AP    0\n",
       "RH    0\n",
       "PE    0\n",
       "dtype: int64"
      ]
     },
     "execution_count": 8,
     "metadata": {},
     "output_type": "execute_result"
    }
   ],
   "source": [
    "data.isnull().sum()"
   ]
  },
  {
   "cell_type": "code",
   "execution_count": 9,
   "id": "a8477441",
   "metadata": {},
   "outputs": [
    {
     "name": "stdout",
     "output_type": "stream",
     "text": [
      "<class 'pandas.core.frame.DataFrame'>\n",
      "RangeIndex: 9568 entries, 0 to 9567\n",
      "Data columns (total 5 columns):\n",
      " #   Column  Non-Null Count  Dtype  \n",
      "---  ------  --------------  -----  \n",
      " 0   AT      9568 non-null   float64\n",
      " 1   V       9568 non-null   float64\n",
      " 2   AP      9568 non-null   float64\n",
      " 3   RH      9568 non-null   float64\n",
      " 4   PE      9568 non-null   float64\n",
      "dtypes: float64(5)\n",
      "memory usage: 373.8 KB\n"
     ]
    }
   ],
   "source": [
    "data.info()"
   ]
  },
  {
   "cell_type": "code",
   "execution_count": 10,
   "id": "4a79496f",
   "metadata": {},
   "outputs": [
    {
     "data": {
      "text/html": [
       "<div>\n",
       "<style scoped>\n",
       "    .dataframe tbody tr th:only-of-type {\n",
       "        vertical-align: middle;\n",
       "    }\n",
       "\n",
       "    .dataframe tbody tr th {\n",
       "        vertical-align: top;\n",
       "    }\n",
       "\n",
       "    .dataframe thead th {\n",
       "        text-align: right;\n",
       "    }\n",
       "</style>\n",
       "<table border=\"1\" class=\"dataframe\">\n",
       "  <thead>\n",
       "    <tr style=\"text-align: right;\">\n",
       "      <th></th>\n",
       "      <th>AT</th>\n",
       "      <th>V</th>\n",
       "      <th>AP</th>\n",
       "      <th>RH</th>\n",
       "      <th>PE</th>\n",
       "    </tr>\n",
       "  </thead>\n",
       "  <tbody>\n",
       "    <tr>\n",
       "      <th>count</th>\n",
       "      <td>9568.000000</td>\n",
       "      <td>9568.000000</td>\n",
       "      <td>9568.000000</td>\n",
       "      <td>9568.000000</td>\n",
       "      <td>9568.000000</td>\n",
       "    </tr>\n",
       "    <tr>\n",
       "      <th>mean</th>\n",
       "      <td>19.651231</td>\n",
       "      <td>54.305804</td>\n",
       "      <td>1013.259078</td>\n",
       "      <td>73.308978</td>\n",
       "      <td>454.365009</td>\n",
       "    </tr>\n",
       "    <tr>\n",
       "      <th>std</th>\n",
       "      <td>7.452473</td>\n",
       "      <td>12.707893</td>\n",
       "      <td>5.938784</td>\n",
       "      <td>14.600269</td>\n",
       "      <td>17.066995</td>\n",
       "    </tr>\n",
       "    <tr>\n",
       "      <th>min</th>\n",
       "      <td>1.810000</td>\n",
       "      <td>25.360000</td>\n",
       "      <td>992.890000</td>\n",
       "      <td>25.560000</td>\n",
       "      <td>420.260000</td>\n",
       "    </tr>\n",
       "    <tr>\n",
       "      <th>25%</th>\n",
       "      <td>13.510000</td>\n",
       "      <td>41.740000</td>\n",
       "      <td>1009.100000</td>\n",
       "      <td>63.327500</td>\n",
       "      <td>439.750000</td>\n",
       "    </tr>\n",
       "    <tr>\n",
       "      <th>50%</th>\n",
       "      <td>20.345000</td>\n",
       "      <td>52.080000</td>\n",
       "      <td>1012.940000</td>\n",
       "      <td>74.975000</td>\n",
       "      <td>451.550000</td>\n",
       "    </tr>\n",
       "    <tr>\n",
       "      <th>75%</th>\n",
       "      <td>25.720000</td>\n",
       "      <td>66.540000</td>\n",
       "      <td>1017.260000</td>\n",
       "      <td>84.830000</td>\n",
       "      <td>468.430000</td>\n",
       "    </tr>\n",
       "    <tr>\n",
       "      <th>max</th>\n",
       "      <td>37.110000</td>\n",
       "      <td>81.560000</td>\n",
       "      <td>1033.300000</td>\n",
       "      <td>100.160000</td>\n",
       "      <td>495.760000</td>\n",
       "    </tr>\n",
       "  </tbody>\n",
       "</table>\n",
       "</div>"
      ],
      "text/plain": [
       "                AT            V           AP           RH           PE\n",
       "count  9568.000000  9568.000000  9568.000000  9568.000000  9568.000000\n",
       "mean     19.651231    54.305804  1013.259078    73.308978   454.365009\n",
       "std       7.452473    12.707893     5.938784    14.600269    17.066995\n",
       "min       1.810000    25.360000   992.890000    25.560000   420.260000\n",
       "25%      13.510000    41.740000  1009.100000    63.327500   439.750000\n",
       "50%      20.345000    52.080000  1012.940000    74.975000   451.550000\n",
       "75%      25.720000    66.540000  1017.260000    84.830000   468.430000\n",
       "max      37.110000    81.560000  1033.300000   100.160000   495.760000"
      ]
     },
     "execution_count": 10,
     "metadata": {},
     "output_type": "execute_result"
    }
   ],
   "source": [
    "data.describe()"
   ]
  },
  {
   "cell_type": "code",
   "execution_count": 11,
   "id": "f31efe41",
   "metadata": {},
   "outputs": [
    {
     "data": {
      "text/plain": [
       "AT     55.539357\n",
       "V     161.490544\n",
       "AP     35.269152\n",
       "RH    213.167848\n",
       "PE    291.282318\n",
       "dtype: float64"
      ]
     },
     "execution_count": 11,
     "metadata": {},
     "output_type": "execute_result"
    }
   ],
   "source": [
    "data.var()"
   ]
  },
  {
   "cell_type": "code",
   "execution_count": null,
   "id": "ce0c06bf",
   "metadata": {},
   "outputs": [],
   "source": []
  },
  {
   "cell_type": "code",
   "execution_count": null,
   "id": "650a1000",
   "metadata": {},
   "outputs": [],
   "source": []
  },
  {
   "cell_type": "code",
   "execution_count": 12,
   "id": "7d2b8f68",
   "metadata": {},
   "outputs": [
    {
     "data": {
      "text/html": [
       "<div>\n",
       "<style scoped>\n",
       "    .dataframe tbody tr th:only-of-type {\n",
       "        vertical-align: middle;\n",
       "    }\n",
       "\n",
       "    .dataframe tbody tr th {\n",
       "        vertical-align: top;\n",
       "    }\n",
       "\n",
       "    .dataframe thead th {\n",
       "        text-align: right;\n",
       "    }\n",
       "</style>\n",
       "<table border=\"1\" class=\"dataframe\">\n",
       "  <thead>\n",
       "    <tr style=\"text-align: right;\">\n",
       "      <th></th>\n",
       "      <th>AT</th>\n",
       "      <th>V</th>\n",
       "      <th>AP</th>\n",
       "      <th>RH</th>\n",
       "      <th>PE</th>\n",
       "    </tr>\n",
       "  </thead>\n",
       "  <tbody>\n",
       "    <tr>\n",
       "      <th>9068</th>\n",
       "      <td>15.62</td>\n",
       "      <td>41.23</td>\n",
       "      <td>992.89</td>\n",
       "      <td>83.99</td>\n",
       "      <td>463.21</td>\n",
       "    </tr>\n",
       "    <tr>\n",
       "      <th>8133</th>\n",
       "      <td>18.21</td>\n",
       "      <td>41.23</td>\n",
       "      <td>993.11</td>\n",
       "      <td>62.29</td>\n",
       "      <td>457.53</td>\n",
       "    </tr>\n",
       "    <tr>\n",
       "      <th>4067</th>\n",
       "      <td>13.83</td>\n",
       "      <td>41.23</td>\n",
       "      <td>993.31</td>\n",
       "      <td>93.94</td>\n",
       "      <td>466.20</td>\n",
       "    </tr>\n",
       "    <tr>\n",
       "      <th>7077</th>\n",
       "      <td>12.95</td>\n",
       "      <td>41.23</td>\n",
       "      <td>993.74</td>\n",
       "      <td>96.35</td>\n",
       "      <td>469.05</td>\n",
       "    </tr>\n",
       "    <tr>\n",
       "      <th>5863</th>\n",
       "      <td>18.15</td>\n",
       "      <td>41.23</td>\n",
       "      <td>993.82</td>\n",
       "      <td>61.21</td>\n",
       "      <td>456.32</td>\n",
       "    </tr>\n",
       "    <tr>\n",
       "      <th>...</th>\n",
       "      <td>...</td>\n",
       "      <td>...</td>\n",
       "      <td>...</td>\n",
       "      <td>...</td>\n",
       "      <td>...</td>\n",
       "    </tr>\n",
       "    <tr>\n",
       "      <th>4125</th>\n",
       "      <td>9.99</td>\n",
       "      <td>41.82</td>\n",
       "      <td>1033.14</td>\n",
       "      <td>68.36</td>\n",
       "      <td>475.75</td>\n",
       "    </tr>\n",
       "    <tr>\n",
       "      <th>3015</th>\n",
       "      <td>9.66</td>\n",
       "      <td>41.82</td>\n",
       "      <td>1033.19</td>\n",
       "      <td>73.19</td>\n",
       "      <td>477.67</td>\n",
       "    </tr>\n",
       "    <tr>\n",
       "      <th>319</th>\n",
       "      <td>9.25</td>\n",
       "      <td>41.82</td>\n",
       "      <td>1033.25</td>\n",
       "      <td>74.73</td>\n",
       "      <td>478.48</td>\n",
       "    </tr>\n",
       "    <tr>\n",
       "      <th>7892</th>\n",
       "      <td>8.76</td>\n",
       "      <td>41.82</td>\n",
       "      <td>1033.29</td>\n",
       "      <td>76.50</td>\n",
       "      <td>480.08</td>\n",
       "    </tr>\n",
       "    <tr>\n",
       "      <th>715</th>\n",
       "      <td>8.87</td>\n",
       "      <td>41.82</td>\n",
       "      <td>1033.30</td>\n",
       "      <td>74.28</td>\n",
       "      <td>477.97</td>\n",
       "    </tr>\n",
       "  </tbody>\n",
       "</table>\n",
       "<p>9568 rows × 5 columns</p>\n",
       "</div>"
      ],
      "text/plain": [
       "         AT      V       AP     RH      PE\n",
       "9068  15.62  41.23   992.89  83.99  463.21\n",
       "8133  18.21  41.23   993.11  62.29  457.53\n",
       "4067  13.83  41.23   993.31  93.94  466.20\n",
       "7077  12.95  41.23   993.74  96.35  469.05\n",
       "5863  18.15  41.23   993.82  61.21  456.32\n",
       "...     ...    ...      ...    ...     ...\n",
       "4125   9.99  41.82  1033.14  68.36  475.75\n",
       "3015   9.66  41.82  1033.19  73.19  477.67\n",
       "319    9.25  41.82  1033.25  74.73  478.48\n",
       "7892   8.76  41.82  1033.29  76.50  480.08\n",
       "715    8.87  41.82  1033.30  74.28  477.97\n",
       "\n",
       "[9568 rows x 5 columns]"
      ]
     },
     "execution_count": 12,
     "metadata": {},
     "output_type": "execute_result"
    }
   ],
   "source": [
    "data.sort_values('AP')"
   ]
  },
  {
   "cell_type": "code",
   "execution_count": null,
   "id": "913d4afb",
   "metadata": {},
   "outputs": [],
   "source": []
  },
  {
   "cell_type": "code",
   "execution_count": null,
   "id": "631d548b",
   "metadata": {},
   "outputs": [],
   "source": []
  },
  {
   "cell_type": "code",
   "execution_count": 13,
   "id": "b246c7aa",
   "metadata": {},
   "outputs": [
    {
     "data": {
      "text/plain": [
       "array([[<AxesSubplot:title={'center':'AT'}>,\n",
       "        <AxesSubplot:title={'center':'V'}>],\n",
       "       [<AxesSubplot:title={'center':'AP'}>,\n",
       "        <AxesSubplot:title={'center':'RH'}>],\n",
       "       [<AxesSubplot:title={'center':'PE'}>, <AxesSubplot:>]],\n",
       "      dtype=object)"
      ]
     },
     "execution_count": 13,
     "metadata": {},
     "output_type": "execute_result"
    },
    {
     "data": {
      "image/png": "[encoded data removed]",
      "text/plain": [
       "<Figure size 936x936 with 6 Axes>"
      ]
     },
     "metadata": {
      "needs_background": "light"
     },
     "output_type": "display_data"
    }
   ],
   "source": [
    "data.hist(bins=5,figsize=(13,13))"
   ]
  },
  {
   "cell_type": "code",
   "execution_count": 14,
   "id": "c92f923b",
   "metadata": {},
   "outputs": [
    {
     "data": {
      "text/plain": [
       "<AxesSubplot:xlabel='AT'>"
      ]
     },
     "execution_count": 14,
     "metadata": {},
     "output_type": "execute_result"
    },
    {
     "data": {
      "image/png": "[encoded data removed]",
      "text/plain": [
       "<Figure size 432x288 with 1 Axes>"
      ]
     },
     "metadata": {
      "needs_background": "light"
     },
     "output_type": "display_data"
    }
   ],
   "source": [
    "sns.boxplot('AT',data=data)"
   ]
  },
  {
   "cell_type": "code",
   "execution_count": 15,
   "id": "5bf45856",
   "metadata": {},
   "outputs": [
    {
     "data": {
      "text/plain": [
       "<AxesSubplot:>"
      ]
     },
     "execution_count": 15,
     "metadata": {},
     "output_type": "execute_result"
    },
    {
     "data": {
      "image/png": "[encoded data removed]",
      "text/plain": [
       "<Figure size 432x288 with 2 Axes>"
      ]
     },
     "metadata": {
      "needs_background": "light"
     },
     "output_type": "display_data"
    }
   ],
   "source": [
    "sns.heatmap(data.corr(),annot=True,cmap='BuGn')"
   ]
  },
  {
   "cell_type": "code",
   "execution_count": 16,
   "id": "75c2f11a",
   "metadata": {},
   "outputs": [
    {
     "data": {
      "text/plain": [
       "<AxesSubplot:xlabel='V'>"
      ]
     },
     "execution_count": 16,
     "metadata": {},
     "output_type": "execute_result"
    },
    {
     "data": {
      "image/png": "[encoded data removed]",
      "text/plain": [
       "<Figure size 432x288 with 1 Axes>"
      ]
     },
     "metadata": {
      "needs_background": "light"
     },
     "output_type": "display_data"
    }
   ],
   "source": [
    "sns.boxplot('V',data=data)"
   ]
  },
  {
   "cell_type": "code",
   "execution_count": 17,
   "id": "3d2f23f7",
   "metadata": {},
   "outputs": [
    {
     "data": {
      "text/plain": [
       "<AxesSubplot:xlabel='AT'>"
      ]
     },
     "execution_count": 17,
     "metadata": {},
     "output_type": "execute_result"
    },
    {
     "data": {
      "image/png": "[encoded data removed]",
      "text/plain": [
       "<Figure size 432x288 with 1 Axes>"
      ]
     },
     "metadata": {
      "needs_background": "light"
     },
     "output_type": "display_data"
    }
   ],
   "source": [
    "\n",
    "sns.boxplot('AT',data=data)"
   ]
  },
  {
   "cell_type": "code",
   "execution_count": 18,
   "id": "1d69e7b8",
   "metadata": {},
   "outputs": [
    {
     "data": {
      "text/plain": [
       "<AxesSubplot:xlabel='AP'>"
      ]
     },
     "execution_count": 18,
     "metadata": {},
     "output_type": "execute_result"
    },
    {
     "data": {
      "image/png": "[encoded data removed]",
      "text/plain": [
       "<Figure size 432x288 with 1 Axes>"
      ]
     },
     "metadata": {
      "needs_background": "light"
     },
     "output_type": "display_data"
    }
   ],
   "source": [
    "sns.boxplot('AP',data=data)\n"
   ]
  },
  {
   "cell_type": "code",
   "execution_count": 19,
   "id": "8c91bb57",
   "metadata": {},
   "outputs": [
    {
     "data": {
      "text/plain": [
       "<AxesSubplot:xlabel='RH'>"
      ]
     },
     "execution_count": 19,
     "metadata": {},
     "output_type": "execute_result"
    },
    {
     "data": {
      "image/png": "[encoded data removed]",
      "text/plain": [
       "<Figure size 432x288 with 1 Axes>"
      ]
     },
     "metadata": {
      "needs_background": "light"
     },
     "output_type": "display_data"
    }
   ],
   "source": [
    "sns.boxplot('RH',data=data)"
   ]
  },
  {
   "cell_type": "code",
   "execution_count": 20,
   "id": "60ba3b80",
   "metadata": {},
   "outputs": [],
   "source": [
    "#finding and removing outliers from atmospheric pressure\n",
    "ll=data['AP'].quantile(0.05)\n",
    "ul=data['AP'].quantile(0.95)\n",
    "data=data[(data['AP']>ll) & (data['AP']<ul)]"
   ]
  },
  {
   "cell_type": "code",
   "execution_count": 21,
   "id": "7a62d677",
   "metadata": {},
   "outputs": [
    {
     "data": {
      "text/html": [
       "<div>\n",
       "<style scoped>\n",
       "    .dataframe tbody tr th:only-of-type {\n",
       "        vertical-align: middle;\n",
       "    }\n",
       "\n",
       "    .dataframe tbody tr th {\n",
       "        vertical-align: top;\n",
       "    }\n",
       "\n",
       "    .dataframe thead th {\n",
       "        text-align: right;\n",
       "    }\n",
       "</style>\n",
       "<table border=\"1\" class=\"dataframe\">\n",
       "  <thead>\n",
       "    <tr style=\"text-align: right;\">\n",
       "      <th></th>\n",
       "      <th>AT</th>\n",
       "      <th>V</th>\n",
       "      <th>AP</th>\n",
       "      <th>RH</th>\n",
       "      <th>PE</th>\n",
       "    </tr>\n",
       "  </thead>\n",
       "  <tbody>\n",
       "    <tr>\n",
       "      <th>1</th>\n",
       "      <td>25.18</td>\n",
       "      <td>62.96</td>\n",
       "      <td>1020.04</td>\n",
       "      <td>59.08</td>\n",
       "      <td>444.37</td>\n",
       "    </tr>\n",
       "    <tr>\n",
       "      <th>2</th>\n",
       "      <td>5.11</td>\n",
       "      <td>39.40</td>\n",
       "      <td>1012.16</td>\n",
       "      <td>92.14</td>\n",
       "      <td>488.56</td>\n",
       "    </tr>\n",
       "    <tr>\n",
       "      <th>3</th>\n",
       "      <td>20.86</td>\n",
       "      <td>57.32</td>\n",
       "      <td>1010.24</td>\n",
       "      <td>76.64</td>\n",
       "      <td>446.48</td>\n",
       "    </tr>\n",
       "    <tr>\n",
       "      <th>5</th>\n",
       "      <td>26.27</td>\n",
       "      <td>59.44</td>\n",
       "      <td>1012.23</td>\n",
       "      <td>58.77</td>\n",
       "      <td>443.67</td>\n",
       "    </tr>\n",
       "    <tr>\n",
       "      <th>6</th>\n",
       "      <td>15.89</td>\n",
       "      <td>43.96</td>\n",
       "      <td>1014.02</td>\n",
       "      <td>75.24</td>\n",
       "      <td>467.35</td>\n",
       "    </tr>\n",
       "    <tr>\n",
       "      <th>...</th>\n",
       "      <td>...</td>\n",
       "      <td>...</td>\n",
       "      <td>...</td>\n",
       "      <td>...</td>\n",
       "      <td>...</td>\n",
       "    </tr>\n",
       "    <tr>\n",
       "      <th>9561</th>\n",
       "      <td>11.76</td>\n",
       "      <td>41.58</td>\n",
       "      <td>1020.91</td>\n",
       "      <td>88.35</td>\n",
       "      <td>465.45</td>\n",
       "    </tr>\n",
       "    <tr>\n",
       "      <th>9562</th>\n",
       "      <td>14.02</td>\n",
       "      <td>40.10</td>\n",
       "      <td>1015.56</td>\n",
       "      <td>82.44</td>\n",
       "      <td>467.32</td>\n",
       "    </tr>\n",
       "    <tr>\n",
       "      <th>9563</th>\n",
       "      <td>16.65</td>\n",
       "      <td>49.69</td>\n",
       "      <td>1014.01</td>\n",
       "      <td>91.00</td>\n",
       "      <td>460.03</td>\n",
       "    </tr>\n",
       "    <tr>\n",
       "      <th>9566</th>\n",
       "      <td>24.48</td>\n",
       "      <td>69.45</td>\n",
       "      <td>1013.86</td>\n",
       "      <td>62.39</td>\n",
       "      <td>435.74</td>\n",
       "    </tr>\n",
       "    <tr>\n",
       "      <th>9567</th>\n",
       "      <td>21.60</td>\n",
       "      <td>62.52</td>\n",
       "      <td>1017.23</td>\n",
       "      <td>67.87</td>\n",
       "      <td>453.28</td>\n",
       "    </tr>\n",
       "  </tbody>\n",
       "</table>\n",
       "<p>7746 rows × 5 columns</p>\n",
       "</div>"
      ],
      "text/plain": [
       "         AT      V       AP     RH      PE\n",
       "1     25.18  62.96  1020.04  59.08  444.37\n",
       "2      5.11  39.40  1012.16  92.14  488.56\n",
       "3     20.86  57.32  1010.24  76.64  446.48\n",
       "5     26.27  59.44  1012.23  58.77  443.67\n",
       "6     15.89  43.96  1014.02  75.24  467.35\n",
       "...     ...    ...      ...    ...     ...\n",
       "9561  11.76  41.58  1020.91  88.35  465.45\n",
       "9562  14.02  40.10  1015.56  82.44  467.32\n",
       "9563  16.65  49.69  1014.01  91.00  460.03\n",
       "9566  24.48  69.45  1013.86  62.39  435.74\n",
       "9567  21.60  62.52  1017.23  67.87  453.28\n",
       "\n",
       "[7746 rows x 5 columns]"
      ]
     },
     "execution_count": 21,
     "metadata": {},
     "output_type": "execute_result"
    }
   ],
   "source": [
    "#finding and removing outliers from relative humidity \n",
    "ll=data['RH'].quantile(0.05)\n",
    "ul=data['RH'].quantile(0.95)\n",
    "data=data[(data['RH']>ll) & (data['RH']<ul)]\n",
    "data"
   ]
  },
  {
   "cell_type": "code",
   "execution_count": null,
   "id": "e47d5b31",
   "metadata": {},
   "outputs": [],
   "source": []
  },
  {
   "cell_type": "code",
   "execution_count": 22,
   "id": "f29da47b",
   "metadata": {},
   "outputs": [
    {
     "data": {
      "text/plain": [
       "<AxesSubplot:xlabel='RH'>"
      ]
     },
     "execution_count": 22,
     "metadata": {},
     "output_type": "execute_result"
    },
    {
     "data": {
      "image/png": "[encoded data removed]",
      "text/plain": [
       "<Figure size 432x288 with 1 Axes>"
      ]
     },
     "metadata": {
      "needs_background": "light"
     },
     "output_type": "display_data"
    }
   ],
   "source": [
    "sns.boxplot('RH',data=data)"
   ]
  },
  {
   "cell_type": "code",
   "execution_count": 23,
   "id": "ec9ef540",
   "metadata": {},
   "outputs": [
    {
     "data": {
      "text/html": [
       "<div>\n",
       "<style scoped>\n",
       "    .dataframe tbody tr th:only-of-type {\n",
       "        vertical-align: middle;\n",
       "    }\n",
       "\n",
       "    .dataframe tbody tr th {\n",
       "        vertical-align: top;\n",
       "    }\n",
       "\n",
       "    .dataframe thead th {\n",
       "        text-align: right;\n",
       "    }\n",
       "</style>\n",
       "<table border=\"1\" class=\"dataframe\">\n",
       "  <thead>\n",
       "    <tr style=\"text-align: right;\">\n",
       "      <th></th>\n",
       "      <th>AT</th>\n",
       "      <th>V</th>\n",
       "      <th>AP</th>\n",
       "      <th>RH</th>\n",
       "      <th>PE</th>\n",
       "    </tr>\n",
       "  </thead>\n",
       "  <tbody>\n",
       "    <tr>\n",
       "      <th>1</th>\n",
       "      <td>25.18</td>\n",
       "      <td>62.96</td>\n",
       "      <td>1020.04</td>\n",
       "      <td>59.08</td>\n",
       "      <td>444.37</td>\n",
       "    </tr>\n",
       "    <tr>\n",
       "      <th>2</th>\n",
       "      <td>5.11</td>\n",
       "      <td>39.40</td>\n",
       "      <td>1012.16</td>\n",
       "      <td>92.14</td>\n",
       "      <td>488.56</td>\n",
       "    </tr>\n",
       "    <tr>\n",
       "      <th>3</th>\n",
       "      <td>20.86</td>\n",
       "      <td>57.32</td>\n",
       "      <td>1010.24</td>\n",
       "      <td>76.64</td>\n",
       "      <td>446.48</td>\n",
       "    </tr>\n",
       "    <tr>\n",
       "      <th>5</th>\n",
       "      <td>26.27</td>\n",
       "      <td>59.44</td>\n",
       "      <td>1012.23</td>\n",
       "      <td>58.77</td>\n",
       "      <td>443.67</td>\n",
       "    </tr>\n",
       "    <tr>\n",
       "      <th>6</th>\n",
       "      <td>15.89</td>\n",
       "      <td>43.96</td>\n",
       "      <td>1014.02</td>\n",
       "      <td>75.24</td>\n",
       "      <td>467.35</td>\n",
       "    </tr>\n",
       "    <tr>\n",
       "      <th>...</th>\n",
       "      <td>...</td>\n",
       "      <td>...</td>\n",
       "      <td>...</td>\n",
       "      <td>...</td>\n",
       "      <td>...</td>\n",
       "    </tr>\n",
       "    <tr>\n",
       "      <th>9561</th>\n",
       "      <td>11.76</td>\n",
       "      <td>41.58</td>\n",
       "      <td>1020.91</td>\n",
       "      <td>88.35</td>\n",
       "      <td>465.45</td>\n",
       "    </tr>\n",
       "    <tr>\n",
       "      <th>9562</th>\n",
       "      <td>14.02</td>\n",
       "      <td>40.10</td>\n",
       "      <td>1015.56</td>\n",
       "      <td>82.44</td>\n",
       "      <td>467.32</td>\n",
       "    </tr>\n",
       "    <tr>\n",
       "      <th>9563</th>\n",
       "      <td>16.65</td>\n",
       "      <td>49.69</td>\n",
       "      <td>1014.01</td>\n",
       "      <td>91.00</td>\n",
       "      <td>460.03</td>\n",
       "    </tr>\n",
       "    <tr>\n",
       "      <th>9566</th>\n",
       "      <td>24.48</td>\n",
       "      <td>69.45</td>\n",
       "      <td>1013.86</td>\n",
       "      <td>62.39</td>\n",
       "      <td>435.74</td>\n",
       "    </tr>\n",
       "    <tr>\n",
       "      <th>9567</th>\n",
       "      <td>21.60</td>\n",
       "      <td>62.52</td>\n",
       "      <td>1017.23</td>\n",
       "      <td>67.87</td>\n",
       "      <td>453.28</td>\n",
       "    </tr>\n",
       "  </tbody>\n",
       "</table>\n",
       "<p>7746 rows × 5 columns</p>\n",
       "</div>"
      ],
      "text/plain": [
       "         AT      V       AP     RH      PE\n",
       "1     25.18  62.96  1020.04  59.08  444.37\n",
       "2      5.11  39.40  1012.16  92.14  488.56\n",
       "3     20.86  57.32  1010.24  76.64  446.48\n",
       "5     26.27  59.44  1012.23  58.77  443.67\n",
       "6     15.89  43.96  1014.02  75.24  467.35\n",
       "...     ...    ...      ...    ...     ...\n",
       "9561  11.76  41.58  1020.91  88.35  465.45\n",
       "9562  14.02  40.10  1015.56  82.44  467.32\n",
       "9563  16.65  49.69  1014.01  91.00  460.03\n",
       "9566  24.48  69.45  1013.86  62.39  435.74\n",
       "9567  21.60  62.52  1017.23  67.87  453.28\n",
       "\n",
       "[7746 rows x 5 columns]"
      ]
     },
     "execution_count": 23,
     "metadata": {},
     "output_type": "execute_result"
    }
   ],
   "source": [
    "data"
   ]
  },
  {
   "cell_type": "code",
   "execution_count": 24,
   "id": "93217490",
   "metadata": {},
   "outputs": [
    {
     "data": {
      "text/html": [
       "<div>\n",
       "<style scoped>\n",
       "    .dataframe tbody tr th:only-of-type {\n",
       "        vertical-align: middle;\n",
       "    }\n",
       "\n",
       "    .dataframe tbody tr th {\n",
       "        vertical-align: top;\n",
       "    }\n",
       "\n",
       "    .dataframe thead th {\n",
       "        text-align: right;\n",
       "    }\n",
       "</style>\n",
       "<table border=\"1\" class=\"dataframe\">\n",
       "  <thead>\n",
       "    <tr style=\"text-align: right;\">\n",
       "      <th></th>\n",
       "      <th>AT</th>\n",
       "      <th>V</th>\n",
       "      <th>AP</th>\n",
       "      <th>RH</th>\n",
       "      <th>PE</th>\n",
       "    </tr>\n",
       "  </thead>\n",
       "  <tbody>\n",
       "    <tr>\n",
       "      <th>count</th>\n",
       "      <td>7746.000000</td>\n",
       "      <td>7746.000000</td>\n",
       "      <td>7746.000000</td>\n",
       "      <td>7746.000000</td>\n",
       "      <td>7746.000000</td>\n",
       "    </tr>\n",
       "    <tr>\n",
       "      <th>mean</th>\n",
       "      <td>19.832253</td>\n",
       "      <td>54.820395</td>\n",
       "      <td>1013.221747</td>\n",
       "      <td>73.459080</td>\n",
       "      <td>453.909096</td>\n",
       "    </tr>\n",
       "    <tr>\n",
       "      <th>std</th>\n",
       "      <td>7.113100</td>\n",
       "      <td>12.576789</td>\n",
       "      <td>4.662832</td>\n",
       "      <td>12.153825</td>\n",
       "      <td>16.717369</td>\n",
       "    </tr>\n",
       "    <tr>\n",
       "      <th>min</th>\n",
       "      <td>2.640000</td>\n",
       "      <td>25.360000</td>\n",
       "      <td>1004.000000</td>\n",
       "      <td>46.520000</td>\n",
       "      <td>420.260000</td>\n",
       "    </tr>\n",
       "    <tr>\n",
       "      <th>25%</th>\n",
       "      <td>13.930000</td>\n",
       "      <td>42.070000</td>\n",
       "      <td>1009.572500</td>\n",
       "      <td>64.205000</td>\n",
       "      <td>440.000000</td>\n",
       "    </tr>\n",
       "    <tr>\n",
       "      <th>50%</th>\n",
       "      <td>20.890000</td>\n",
       "      <td>56.530000</td>\n",
       "      <td>1013.005000</td>\n",
       "      <td>74.790000</td>\n",
       "      <td>450.420000</td>\n",
       "    </tr>\n",
       "    <tr>\n",
       "      <th>75%</th>\n",
       "      <td>25.537500</td>\n",
       "      <td>66.510000</td>\n",
       "      <td>1016.857500</td>\n",
       "      <td>83.587500</td>\n",
       "      <td>467.460000</td>\n",
       "    </tr>\n",
       "    <tr>\n",
       "      <th>max</th>\n",
       "      <td>34.960000</td>\n",
       "      <td>81.560000</td>\n",
       "      <td>1023.440000</td>\n",
       "      <td>94.260000</td>\n",
       "      <td>495.760000</td>\n",
       "    </tr>\n",
       "  </tbody>\n",
       "</table>\n",
       "</div>"
      ],
      "text/plain": [
       "                AT            V           AP           RH           PE\n",
       "count  7746.000000  7746.000000  7746.000000  7746.000000  7746.000000\n",
       "mean     19.832253    54.820395  1013.221747    73.459080   453.909096\n",
       "std       7.113100    12.576789     4.662832    12.153825    16.717369\n",
       "min       2.640000    25.360000  1004.000000    46.520000   420.260000\n",
       "25%      13.930000    42.070000  1009.572500    64.205000   440.000000\n",
       "50%      20.890000    56.530000  1013.005000    74.790000   450.420000\n",
       "75%      25.537500    66.510000  1016.857500    83.587500   467.460000\n",
       "max      34.960000    81.560000  1023.440000    94.260000   495.760000"
      ]
     },
     "execution_count": 24,
     "metadata": {},
     "output_type": "execute_result"
    }
   ],
   "source": [
    "data.describe()"
   ]
  },
  {
   "cell_type": "code",
   "execution_count": 25,
   "id": "69bcff0b",
   "metadata": {},
   "outputs": [
    {
     "data": {
      "text/html": [
       "<div>\n",
       "<style scoped>\n",
       "    .dataframe tbody tr th:only-of-type {\n",
       "        vertical-align: middle;\n",
       "    }\n",
       "\n",
       "    .dataframe tbody tr th {\n",
       "        vertical-align: top;\n",
       "    }\n",
       "\n",
       "    .dataframe thead th {\n",
       "        text-align: right;\n",
       "    }\n",
       "</style>\n",
       "<table border=\"1\" class=\"dataframe\">\n",
       "  <thead>\n",
       "    <tr style=\"text-align: right;\">\n",
       "      <th></th>\n",
       "      <th>AT</th>\n",
       "      <th>V</th>\n",
       "      <th>AP</th>\n",
       "      <th>RH</th>\n",
       "      <th>PE</th>\n",
       "    </tr>\n",
       "  </thead>\n",
       "  <tbody>\n",
       "    <tr>\n",
       "      <th>AT</th>\n",
       "      <td>1.000000</td>\n",
       "      <td>0.841589</td>\n",
       "      <td>-0.506259</td>\n",
       "      <td>-0.483119</td>\n",
       "      <td>-0.948447</td>\n",
       "    </tr>\n",
       "    <tr>\n",
       "      <th>V</th>\n",
       "      <td>0.841589</td>\n",
       "      <td>1.000000</td>\n",
       "      <td>-0.413279</td>\n",
       "      <td>-0.268587</td>\n",
       "      <td>-0.867445</td>\n",
       "    </tr>\n",
       "    <tr>\n",
       "      <th>AP</th>\n",
       "      <td>-0.506259</td>\n",
       "      <td>-0.413279</td>\n",
       "      <td>1.000000</td>\n",
       "      <td>0.081643</td>\n",
       "      <td>0.517951</td>\n",
       "    </tr>\n",
       "    <tr>\n",
       "      <th>RH</th>\n",
       "      <td>-0.483119</td>\n",
       "      <td>-0.268587</td>\n",
       "      <td>0.081643</td>\n",
       "      <td>1.000000</td>\n",
       "      <td>0.340834</td>\n",
       "    </tr>\n",
       "    <tr>\n",
       "      <th>PE</th>\n",
       "      <td>-0.948447</td>\n",
       "      <td>-0.867445</td>\n",
       "      <td>0.517951</td>\n",
       "      <td>0.340834</td>\n",
       "      <td>1.000000</td>\n",
       "    </tr>\n",
       "  </tbody>\n",
       "</table>\n",
       "</div>"
      ],
      "text/plain": [
       "          AT         V        AP        RH        PE\n",
       "AT  1.000000  0.841589 -0.506259 -0.483119 -0.948447\n",
       "V   0.841589  1.000000 -0.413279 -0.268587 -0.867445\n",
       "AP -0.506259 -0.413279  1.000000  0.081643  0.517951\n",
       "RH -0.483119 -0.268587  0.081643  1.000000  0.340834\n",
       "PE -0.948447 -0.867445  0.517951  0.340834  1.000000"
      ]
     },
     "execution_count": 25,
     "metadata": {},
     "output_type": "execute_result"
    }
   ],
   "source": [
    "data.corr()"
   ]
  },
  {
   "cell_type": "code",
   "execution_count": 26,
   "id": "efc80558",
   "metadata": {},
   "outputs": [
    {
     "data": {
      "text/plain": [
       "<AxesSubplot:>"
      ]
     },
     "execution_count": 26,
     "metadata": {},
     "output_type": "execute_result"
    },
    {
     "data": {
      "image/png": "[encoded data removed]",
      "text/plain": [
       "<Figure size 432x288 with 2 Axes>"
      ]
     },
     "metadata": {
      "needs_background": "light"
     },
     "output_type": "display_data"
    }
   ],
   "source": [
    "sns.heatmap(data.corr(),annot=True,cmap='BuGn')"
   ]
  },
  {
   "cell_type": "code",
   "execution_count": 27,
   "id": "b6559987",
   "metadata": {},
   "outputs": [
    {
     "data": {
      "image/png": "[encoded data removed]",
      "text/plain": [
       "<Figure size 432x288 with 1 Axes>"
      ]
     },
     "metadata": {
      "needs_background": "light"
     },
     "output_type": "display_data"
    }
   ],
   "source": [
    "plt.scatter(data['AT'],data['PE'])\n",
    "plt.show()"
   ]
  },
  {
   "cell_type": "code",
   "execution_count": 28,
   "id": "3e71a1db",
   "metadata": {},
   "outputs": [
    {
     "data": {
      "text/plain": [
       "<matplotlib.collections.PathCollection at 0xfd0fd0>"
      ]
     },
     "execution_count": 28,
     "metadata": {},
     "output_type": "execute_result"
    },
    {
     "data": {
      "image/png": "[encoded data removed]",
      "text/plain": [
       "<Figure size 432x288 with 1 Axes>"
      ]
     },
     "metadata": {
      "needs_background": "light"
     },
     "output_type": "display_data"
    }
   ],
   "source": [
    "plt.scatter(data['V'],data['PE'])"
   ]
  },
  {
   "cell_type": "code",
   "execution_count": 29,
   "id": "cc5e75bd",
   "metadata": {},
   "outputs": [
    {
     "data": {
      "text/plain": [
       "<matplotlib.collections.PathCollection at 0xf80c40>"
      ]
     },
     "execution_count": 29,
     "metadata": {},
     "output_type": "execute_result"
    },
    {
     "data": {
      "image/png": "[encoded data removed]",
      "text/plain": [
       "<Figure size 432x288 with 1 Axes>"
      ]
     },
     "metadata": {
      "needs_background": "light"
     },
     "output_type": "display_data"
    }
   ],
   "source": [
    "plt.scatter(data['RH'],data['PE'])"
   ]
  },
  {
   "cell_type": "code",
   "execution_count": 30,
   "id": "e97f4948",
   "metadata": {},
   "outputs": [
    {
     "data": {
      "text/plain": [
       "<matplotlib.collections.PathCollection at 0x1002a90>"
      ]
     },
     "execution_count": 30,
     "metadata": {},
     "output_type": "execute_result"
    },
    {
     "data": {
      "image/png": "[encoded data removed]",
      "text/plain": [
       "<Figure size 432x288 with 1 Axes>"
      ]
     },
     "metadata": {
      "needs_background": "light"
     },
     "output_type": "display_data"
    }
   ],
   "source": [
    "plt.scatter(data['AP'],data['PE'])"
   ]
  },
  {
   "cell_type": "code",
   "execution_count": 31,
   "id": "5e02b9cc",
   "metadata": {},
   "outputs": [],
   "source": [
    "#sns.pairplot(data,kind='kde')"
   ]
  },
  {
   "cell_type": "code",
   "execution_count": null,
   "id": "5c31aa95",
   "metadata": {},
   "outputs": [],
   "source": []
  },
  {
   "cell_type": "code",
   "execution_count": 32,
   "id": "d2a468e5",
   "metadata": {},
   "outputs": [
    {
     "data": {
      "text/plain": [
       "array([[  25.18,   62.96, 1020.04,   59.08],\n",
       "       [   5.11,   39.4 , 1012.16,   92.14],\n",
       "       [  20.86,   57.32, 1010.24,   76.64],\n",
       "       ...,\n",
       "       [  16.65,   49.69, 1014.01,   91.  ],\n",
       "       [  24.48,   69.45, 1013.86,   62.39],\n",
       "       [  21.6 ,   62.52, 1017.23,   67.87]])"
      ]
     },
     "execution_count": 32,
     "metadata": {},
     "output_type": "execute_result"
    }
   ],
   "source": [
    "#splitting of data into x and y datasets\n",
    "x=data.iloc[:,[0,1,2,3]].values\n",
    "x"
   ]
  },
  {
   "cell_type": "code",
   "execution_count": 33,
   "id": "ef1c9fb3",
   "metadata": {},
   "outputs": [
    {
     "data": {
      "text/plain": [
       "array([444.37, 488.56, 446.48, ..., 460.03, 435.74, 453.28])"
      ]
     },
     "execution_count": 33,
     "metadata": {},
     "output_type": "execute_result"
    }
   ],
   "source": [
    "y=data.iloc[:,-1].values\n",
    "y"
   ]
  },
  {
   "cell_type": "markdown",
   "id": "54418248",
   "metadata": {},
   "source": [
    "#splitting the datasets"
   ]
  },
  {
   "cell_type": "code",
   "execution_count": 34,
   "id": "b0445524",
   "metadata": {},
   "outputs": [],
   "source": [
    "x_train,x_test,y_train,y_test=train_test_split(x,y,test_size=0.10,random_state=40)\n",
    "#scaling the datset"
   ]
  },
  {
   "cell_type": "code",
   "execution_count": 35,
   "id": "0cafa441",
   "metadata": {},
   "outputs": [],
   "source": [
    "#applying multiple linear regression"
   ]
  },
  {
   "cell_type": "code",
   "execution_count": 36,
   "id": "6f565833",
   "metadata": {},
   "outputs": [
    {
     "data": {
      "text/plain": [
       "0.9333208673012643"
      ]
     },
     "execution_count": 36,
     "metadata": {},
     "output_type": "execute_result"
    }
   ],
   "source": [
    "lr=LinearRegression()\n",
    "lr.fit(x_train,y_train)\n",
    "lr_pred=lr.predict(x_test)\n",
    "lr_acc=r2_score(y_test,lr_pred)\n",
    "lr_acc"
   ]
  },
  {
   "cell_type": "code",
   "execution_count": 37,
   "id": "b699c46d",
   "metadata": {},
   "outputs": [
    {
     "data": {
      "text/plain": [
       "Text(0, 0.5, 'Predicted')"
      ]
     },
     "execution_count": 37,
     "metadata": {},
     "output_type": "execute_result"
    },
    {
     "data": {
      "image/png": "[encoded data removed]",
      "text/plain": [
       "<Figure size 864x864 with 1 Axes>"
      ]
     },
     "metadata": {
      "needs_background": "light"
     },
     "output_type": "display_data"
    }
   ],
   "source": [
    "plt.figure(figsize=(12,12))\n",
    "plt.scatter(y_test,lr_pred,color='red')\n",
    "plt.title('Showing Linear regression  actual vs predictions ')\n",
    "plt.xlabel('Actual')\n",
    "plt.ylabel('Predicted')"
   ]
  },
  {
   "cell_type": "code",
   "execution_count": 38,
   "id": "1dec1d24",
   "metadata": {},
   "outputs": [],
   "source": [
    "lr_rmse=np.sqrt(mean_squared_error(y_test,lr_pred))\n",
    "lr_mae=mean_absolute_error(y_test,lr_pred)\n",
    "lr_mape=mean_absolute_percentage_error(y_test,lr_pred)"
   ]
  },
  {
   "cell_type": "code",
   "execution_count": null,
   "id": "31fb2dd4",
   "metadata": {},
   "outputs": [],
   "source": []
  },
  {
   "cell_type": "code",
   "execution_count": null,
   "id": "7f2f6f94",
   "metadata": {},
   "outputs": [],
   "source": []
  },
  {
   "cell_type": "code",
   "execution_count": 39,
   "id": "39d0d4b0",
   "metadata": {},
   "outputs": [],
   "source": [
    "#using Randomforest model"
   ]
  },
  {
   "cell_type": "code",
   "execution_count": 40,
   "id": "2bf1950e",
   "metadata": {},
   "outputs": [
    {
     "data": {
      "text/plain": [
       "0.9668890436266543"
      ]
     },
     "execution_count": 40,
     "metadata": {},
     "output_type": "execute_result"
    }
   ],
   "source": [
    "rf=RandomForestRegressor(120)\n",
    "rf.fit(x_train,y_train)\n",
    "rf_pred=rf.predict(x_test)\n",
    "rf_acc=r2_score(y_test,rf_pred)\n",
    "rf_acc"
   ]
  },
  {
   "cell_type": "code",
   "execution_count": 41,
   "id": "708ea3c7",
   "metadata": {},
   "outputs": [
    {
     "data": {
      "text/plain": [
       "array([486.0275])"
      ]
     },
     "execution_count": 41,
     "metadata": {},
     "output_type": "execute_result"
    }
   ],
   "source": [
    "rf.predict([[5.11,39.40,1012.16,92.14]])"
   ]
  },
  {
   "cell_type": "code",
   "execution_count": 42,
   "id": "3df858c2",
   "metadata": {},
   "outputs": [
    {
     "data": {
      "text/plain": [
       "Text(0, 0.5, 'Predicted')"
      ]
     },
     "execution_count": 42,
     "metadata": {},
     "output_type": "execute_result"
    },
    {
     "data": {
      "image/png": "[encoded data removed]",
      "text/plain": [
       "<Figure size 864x864 with 1 Axes>"
      ]
     },
     "metadata": {
      "needs_background": "light"
     },
     "output_type": "display_data"
    }
   ],
   "source": [
    "plt.figure(figsize=(12,12))\n",
    "plt.scatter(y_test,rf_pred,color='blue')\n",
    "plt.title('Showing Random Forest regression  actual vs predictions ')\n",
    "plt.xlabel('Actual')\n",
    "plt.ylabel('Predicted')"
   ]
  },
  {
   "cell_type": "code",
   "execution_count": 43,
   "id": "a060fe0e",
   "metadata": {},
   "outputs": [],
   "source": [
    "rf_rmse=np.sqrt(mean_squared_error(rf_pred,y_test))\n",
    "rf_rmse\n",
    "rf_mae=mean_absolute_error(y_test,rf_pred)\n",
    "rf_mape=mean_absolute_percentage_error(y_test,rf_pred)"
   ]
  },
  {
   "cell_type": "code",
   "execution_count": null,
   "id": "864b28b6",
   "metadata": {},
   "outputs": [],
   "source": []
  },
  {
   "cell_type": "code",
   "execution_count": 44,
   "id": "9489f9cc",
   "metadata": {},
   "outputs": [],
   "source": [
    "#using Decision Tree Algorithm\n"
   ]
  },
  {
   "cell_type": "code",
   "execution_count": 45,
   "id": "d3b0ab40",
   "metadata": {},
   "outputs": [
    {
     "data": {
      "text/plain": [
       "0.9318624053793635"
      ]
     },
     "execution_count": 45,
     "metadata": {},
     "output_type": "execute_result"
    }
   ],
   "source": [
    "dt=DecisionTreeRegressor()\n",
    "dt.fit(x_train,y_train)\n",
    "dt_pred=dt.predict(x_test)\n",
    "dt_acc=r2_score(y_test,dt_pred)\n",
    "dt_acc"
   ]
  },
  {
   "cell_type": "code",
   "execution_count": 46,
   "id": "49354060",
   "metadata": {},
   "outputs": [
    {
     "data": {
      "text/plain": [
       "Text(0, 0.5, 'Predicted')"
      ]
     },
     "execution_count": 46,
     "metadata": {},
     "output_type": "execute_result"
    },
    {
     "data": {
      "image/png": "[encoded data removed]",
      "text/plain": [
       "<Figure size 864x864 with 1 Axes>"
      ]
     },
     "metadata": {
      "needs_background": "light"
     },
     "output_type": "display_data"
    }
   ],
   "source": [
    "plt.figure(figsize=(12,12))\n",
    "plt.scatter(y_test,dt_pred,color='green')\n",
    "plt.title('Showing Decision Tree regression  actual vs predictions ')\n",
    "plt.xlabel('Actual')\n",
    "plt.ylabel('Predicted')"
   ]
  },
  {
   "cell_type": "code",
   "execution_count": 47,
   "id": "a7df26ca",
   "metadata": {},
   "outputs": [],
   "source": [
    "dt_rmse=np.sqrt(mean_squared_error(dt_pred,y_test))\n",
    "dt_mae=mean_absolute_error(y_test,dt_pred)\n",
    "dt_mape=mean_absolute_percentage_error(y_test,lr_pred)"
   ]
  },
  {
   "cell_type": "code",
   "execution_count": null,
   "id": "f3be98d4",
   "metadata": {},
   "outputs": [],
   "source": [
    "\n"
   ]
  },
  {
   "cell_type": "code",
   "execution_count": null,
   "id": "471f943d",
   "metadata": {},
   "outputs": [],
   "source": []
  },
  {
   "cell_type": "code",
   "execution_count": 48,
   "id": "abec83b4",
   "metadata": {},
   "outputs": [],
   "source": [
    "#using Lasso Algorithm\n"
   ]
  },
  {
   "cell_type": "code",
   "execution_count": 49,
   "id": "28ddd189",
   "metadata": {},
   "outputs": [],
   "source": [
    "l=Lasso(alpha=0)\n",
    "l.fit(x_train,y_train)\n",
    "l_pred=l.predict(x_test)\n",
    "l_acc=r2_score(y_test,l_pred)"
   ]
  },
  {
   "cell_type": "code",
   "execution_count": 50,
   "id": "efd52aa9",
   "metadata": {},
   "outputs": [
    {
     "data": {
      "text/plain": [
       "Text(0, 0.5, 'Predicted')"
      ]
     },
     "execution_count": 50,
     "metadata": {},
     "output_type": "execute_result"
    },
    {
     "data": {
      "image/png": "[encoded data removed]",
      "text/plain": [
       "<Figure size 864x864 with 1 Axes>"
      ]
     },
     "metadata": {
      "needs_background": "light"
     },
     "output_type": "display_data"
    }
   ],
   "source": [
    "plt.figure(figsize=(12,12))\n",
    "plt.scatter(y_test,l_pred,color='orange')\n",
    "plt.title('Showing Lasso regression  actual vs predictions ')\n",
    "plt.xlabel('Actual')\n",
    "plt.ylabel('Predicted')"
   ]
  },
  {
   "cell_type": "code",
   "execution_count": 51,
   "id": "b6aef369",
   "metadata": {},
   "outputs": [],
   "source": [
    "l_rmse=np.sqrt(mean_squared_error(l_pred,y_test))\n",
    "l_mae=mean_absolute_error(y_test,l_pred)\n",
    "l_mape=mean_absolute_percentage_error(y_test,l_pred)"
   ]
  },
  {
   "cell_type": "code",
   "execution_count": null,
   "id": "bf8adc0c",
   "metadata": {},
   "outputs": [],
   "source": []
  },
  {
   "cell_type": "code",
   "execution_count": 52,
   "id": "6077ebab",
   "metadata": {},
   "outputs": [],
   "source": [
    "# using ArtificialNeural Network"
   ]
  },
  {
   "cell_type": "code",
   "execution_count": 53,
   "id": "6c3f20b3",
   "metadata": {},
   "outputs": [],
   "source": [
    "mlp=MLPRegressor(hidden_layer_sizes=(10,10,10),max_iter=1000)\n",
    "mlp.fit(x_train,y_train)\n",
    "mlp_pred=mlp.predict(x_test)\n",
    "mlp_acc=r2_score(y_test,mlp_pred)"
   ]
  },
  {
   "cell_type": "code",
   "execution_count": 54,
   "id": "188a12c2",
   "metadata": {},
   "outputs": [
    {
     "data": {
      "text/plain": [
       "Text(0, 0.5, 'Predicted')"
      ]
     },
     "execution_count": 54,
     "metadata": {},
     "output_type": "execute_result"
    },
    {
     "data": {
      "image/png": "[encoded data removed]",
      "text/plain": [
       "<Figure size 864x864 with 1 Axes>"
      ]
     },
     "metadata": {
      "needs_background": "light"
     },
     "output_type": "display_data"
    }
   ],
   "source": [
    "plt.figure(figsize=(12,12))\n",
    "plt.scatter(y_test,mlp_pred,color='green')\n",
    "plt.title('Showing ANN  actual vs predictions ')\n",
    "plt.xlabel('Actual')\n",
    "plt.ylabel('Predicted')"
   ]
  },
  {
   "cell_type": "code",
   "execution_count": 55,
   "id": "f720cb62",
   "metadata": {},
   "outputs": [],
   "source": [
    "mlp_rmse=np.sqrt(mean_squared_error(mlp_pred,y_test))\n",
    "mlp_mae=mean_absolute_error(y_test,mlp_pred)\n",
    "mlp_mape=mean_absolute_percentage_error(y_test,mlp_pred)"
   ]
  },
  {
   "cell_type": "code",
   "execution_count": null,
   "id": "a4cebc30",
   "metadata": {},
   "outputs": [],
   "source": []
  },
  {
   "cell_type": "code",
   "execution_count": null,
   "id": "15276d5e",
   "metadata": {},
   "outputs": [],
   "source": []
  },
  {
   "cell_type": "code",
   "execution_count": null,
   "id": "2eae06af",
   "metadata": {},
   "outputs": [],
   "source": []
  },
  {
   "cell_type": "code",
   "execution_count": 56,
   "id": "91760e3d",
   "metadata": {},
   "outputs": [
    {
     "name": "stdout",
     "output_type": "stream",
     "text": [
      "Linear regression r squared value:0.933320867301264\n",
      "Random Forest regression r squared value:0.966889043626654\n",
      "Decision Tree regression r squared value:0.931862405379363\n",
      "Lasso regression r squared value:0.933320867301264\n",
      "ANN  r squared value:0.919920356018971\n"
     ]
    }
   ],
   "source": [
    "print('Linear regression r squared value:%.15f'%(lr_acc))\n",
    "print('Random Forest regression r squared value:%.15f'%(rf_acc))\n",
    "print('Decision Tree regression r squared value:%.15f'%(dt_acc))\n",
    "print('Lasso regression r squared value:%.15f'%(l_acc))\n",
    "print('ANN  r squared value:%.15f'%(mlp_acc))"
   ]
  },
  {
   "cell_type": "code",
   "execution_count": 57,
   "id": "6121d6e5",
   "metadata": {},
   "outputs": [
    {
     "name": "stdout",
     "output_type": "stream",
     "text": [
      "Linear regression RMSE:4.432719719658166\n",
      "Random Forest regression RMSE:3.123641349144035\n",
      "Decision Tree regression RMSE:4.480935573393487\n",
      "Lasso regression RMSE:4.432719719658170\n",
      "ANN RMSE:4.857763501135021\n"
     ]
    }
   ],
   "source": [
    "print('Linear regression RMSE:%.15f'%(lr_rmse))\n",
    "print('Random Forest regression RMSE:%.15f'%(rf_rmse))\n",
    "print('Decision Tree regression RMSE:%.15f'%(dt_rmse))\n",
    "print('Lasso regression RMSE:%.15f'%(l_rmse))\n",
    "print('ANN RMSE:%.15f'%(mlp_rmse))"
   ]
  },
  {
   "cell_type": "code",
   "execution_count": 58,
   "id": "33614933",
   "metadata": {},
   "outputs": [
    {
     "name": "stdout",
     "output_type": "stream",
     "text": [
      "Linear regression MAE:3.609253972409202\n",
      "Random Forest regression MAE:2.303003225806428\n",
      "Decision Tree regression MAE:2.935961290322580\n",
      "Lasso regression MAE:3.609253972409204\n",
      "ANN MAE:3.960926871878899\n"
     ]
    }
   ],
   "source": [
    "print('Linear regression MAE:%.15f'%(lr_mae))\n",
    "print('Random Forest regression MAE:%.15f'%(rf_mae))\n",
    "print('Decision Tree regression MAE:%.15f'%(dt_mae))\n",
    "print('Lasso regression MAE:%.15f'%(l_mae))\n",
    "print('ANN MAE:%.15f'%(mlp_mae))"
   ]
  },
  {
   "cell_type": "code",
   "execution_count": 59,
   "id": "fb7fad2c",
   "metadata": {},
   "outputs": [
    {
     "name": "stdout",
     "output_type": "stream",
     "text": [
      "Linear regression MAPE:0.007955209503387\n",
      "Random Forest regression MAPE:0.005079915973260\n",
      "Decision Tree regression MAPE:0.007955209503387\n",
      "Lasso regression MAPE:0.007955209503387\n",
      "ANN MAPE:0.008725317604719\n"
     ]
    }
   ],
   "source": [
    "print('Linear regression MAPE:%.15f'%(lr_mape))\n",
    "print('Random Forest regression MAPE:%.15f'%(rf_mape))\n",
    "print('Decision Tree regression MAPE:%.15f'%(dt_mape))\n",
    "print('Lasso regression MAPE:%.15f'%(l_mape))\n",
    "print('ANN MAPE:%.15f'%(mlp_mape))"
   ]
  },
  {
   "cell_type": "markdown",
   "id": "24b003e7",
   "metadata": {},
   "source": [
    "# Applying Hyper parameter to the regression model"
   ]
  },
  {
   "cell_type": "code",
   "execution_count": 61,
   "id": "ab455997",
   "metadata": {},
   "outputs": [
    {
     "name": "stdout",
     "output_type": "stream",
     "text": [
      "Fitting 10 folds for each of 24 candidates, totalling 240 fits\n",
      "Accuracy of Random forest: 0.9670089518581745\n"
     ]
    }
   ],
   "source": [
    "rf_p={\n",
    "   \n",
    "    'n_estimators':[150,160,200],\n",
    "    'max_depth':[x for x in range(5,20,2)]\n",
    "    \n",
    "    \n",
    "}\n",
    "\n",
    "grid_rf=GridSearchCV(RandomForestRegressor(),rf_p,cv=10,n_jobs=-1,verbose=True)\n",
    "grid_rf.fit(x_train,y_train)\n",
    "pred_rf=grid_rf.predict(x_test)\n",
    "r=r2_score(y_test,pred_rf)\n",
    "print('Accuracy of Random forest:',r)"
   ]
  },
  {
   "cell_type": "code",
   "execution_count": 62,
   "id": "d543fdc9",
   "metadata": {},
   "outputs": [
    {
     "data": {
      "text/plain": [
       "RandomForestRegressor(max_depth=19, n_estimators=160)"
      ]
     },
     "execution_count": 62,
     "metadata": {},
     "output_type": "execute_result"
    }
   ],
   "source": [
    "grid_rf.best_estimator_"
   ]
  },
  {
   "cell_type": "code",
   "execution_count": null,
   "id": "91c47e8a",
   "metadata": {},
   "outputs": [],
   "source": []
  },
  {
   "cell_type": "code",
   "execution_count": 63,
   "id": "0eb7bd1e",
   "metadata": {},
   "outputs": [
    {
     "name": "stdout",
     "output_type": "stream",
     "text": [
      "3.11798023170328\n",
      "2.3013216746543987\n",
      "0.005077164790562266\n"
     ]
    }
   ],
   "source": [
    "rf_rmse=np.sqrt(mean_squared_error(y_test,pred_rf))\n",
    "print(rf_rmse)\n",
    "rf_mae=mean_absolute_error(y_test,pred_rf)\n",
    "print(rf_mae)\n",
    "rf_mape=mean_absolute_percentage_error(y_test,pred_rf)\n",
    "print(rf_mape)"
   ]
  },
  {
   "cell_type": "code",
   "execution_count": null,
   "id": "6b86fe3f",
   "metadata": {},
   "outputs": [],
   "source": []
  },
  {
   "cell_type": "code",
   "execution_count": null,
   "id": "1b710130",
   "metadata": {},
   "outputs": [],
   "source": []
  },
  {
   "cell_type": "code",
   "execution_count": null,
   "id": "452c0b53",
   "metadata": {},
   "outputs": [],
   "source": []
  },
  {
   "cell_type": "code",
   "execution_count": null,
   "id": "6f922fe1",
   "metadata": {},
   "outputs": [],
   "source": []
  }
 ],
 "metadata": {
  "kernelspec": {
   "display_name": "Python 3 (ipykernel)",
   "language": "python",
   "name": "python3"
  },
  "language_info": {
   "codemirror_mode": {
    "name": "ipython",
    "version": 3
   },
   "file_extension": ".py",
   "mimetype": "text/x-python",
   "name": "python",
   "nbconvert_exporter": "python",
   "pygments_lexer": "ipython3",
   "version": "3.9.5"
  }
 },
 "nbformat": 4,
 "nbformat_minor": 5
}
